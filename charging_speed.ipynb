{
 "cells": [
  {
   "cell_type": "code",
   "execution_count": null,
   "metadata": {},
   "outputs": [],
   "source": [
    "import pandas as pd\n",
    "import numpy as np\n",
    "import matplotlib.pyplot as plt"
   ]
  },
  {
   "cell_type": "code",
   "execution_count": null,
   "metadata": {},
   "outputs": [],
   "source": [
    "data = {\n",
    "    \"power_level\": [0, 30, 50, 80, 90, 95, 100],\n",
    "    \"charging_time\": [0, 10, 21, 31, 13, 13, 14],\n",
    "    \"charging_rate\": [0, 3.00, 0.95, 0.97, 0.77, 0.38, 0.36],\n",
    "}\n",
    "\n",
    "charging_data = pd.DataFrame(\n",
    "    data, columns=[\"power_level\", \"charging_time\", \"charging_rate\"]\n",
    ")\n",
    "\n",
    "charging_data.head()"
   ]
  },
  {
   "cell_type": "code",
   "execution_count": null,
   "metadata": {},
   "outputs": [],
   "source": [
    "fig =  charging_data.plot(kind=\"line\", x=\"power_level\", y=\"charging_rate\")\n",
    "fig.set_xlabel(\"Power Level (%)\")\n",
    "fig.set_ylabel(\"Charging Rate(per minute)\")\n",
    "fig.set_title(\"Charging Rate vs Power Level\")\n",
    "plt.show()"
   ]
  }
 ],
 "metadata": {
  "kernelspec": {
   "display_name": "Python 3.8.10 ('venv': venv)",
   "language": "python",
   "name": "python3"
  },
  "language_info": {
   "codemirror_mode": {
    "name": "ipython",
    "version": 3
   },
   "file_extension": ".py",
   "mimetype": "text/x-python",
   "name": "python",
   "nbconvert_exporter": "python",
   "pygments_lexer": "ipython3",
   "version": "3.8.10"
  },
  "orig_nbformat": 4,
  "vscode": {
   "interpreter": {
    "hash": "3b7462087da6f3cbeeee9f6006e82e8795989fad823301d5b9f6292147e46f0f"
   }
  }
 },
 "nbformat": 4,
 "nbformat_minor": 2
}
